{
  "cells": [
    {
      "cell_type": "raw",
      "metadata": {},
      "source": [
        "---\n",
        "title: \"Pengaruh X terhadap Y\"\n",
        "format: html\n",
        "editor: visual\n",
        "---"
      ],
      "id": "7f500d1b"
    },
    {
      "cell_type": "markdown",
      "metadata": {},
      "source": [
        "Metode Penelitian Politeknik APP Jakarta\n",
        "\n",
        "Author Robby Satrio\n",
        "\n",
        "\n",
        "```{Packages}\n",
        "setwd(\"C:/Metopel/Latihan\")\n",
        "\n",
        "library(\"readxl\")\n",
        "library(\"tidyverse\")\n",
        "library(\"kableExtra\")\n",
        "```\n",
        "\n",
        "\n",
        "1.  **Pendahuluan**\n",
        "\n",
        "    **Latar Belakang**\n",
        "\n",
        "    Pahdbasdjhbdjhasmbc smnbacmnbasbbcnsammmmmmmmmmmmmmmmmmmmmmmmmmmmmmmmmmmmmmmmmmmmmmmmmmmmmmmmmmmmmmmmmmmnsmc csmna cmnsa cmnsa\n",
        "\n",
        "\n",
        "```{Data}\n",
        "dat<-read_excel('DataUAS.xlsx')\n",
        "\n",
        "```"
      ],
      "id": "d21fd82c"
    }
  ],
  "metadata": {
    "kernelspec": {
      "display_name": "Python 3",
      "language": "python",
      "name": "python3"
    }
  },
  "nbformat": 4,
  "nbformat_minor": 5
}